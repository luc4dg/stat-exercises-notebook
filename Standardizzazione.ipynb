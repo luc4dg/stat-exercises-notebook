{
 "cells": [
  {
   "cell_type": "markdown",
   "id": "accc3c14-8e8d-48e5-917f-73f825815cbd",
   "metadata": {},
   "source": [
    "# Standardizzazione di una variabile casuale"
   ]
  },
  {
   "cell_type": "markdown",
   "id": "397d1805-5490-4d79-bbcf-219280b2845e",
   "metadata": {},
   "source": [
    "la standardizzazione è un'operazione statistica che viene eseguita per trasformare la distribuzione dei dati in una distribuzione normale standard ~N(0,1).\n",
    "E' Utile nei casi in cui si vogliono confrontare variabili con scale diverse o quando si vogliono interpretare dati in termini di deviazione standard."
   ]
  },
  {
   "cell_type": "markdown",
   "id": "fc2981b6-7e59-456d-9ade-f311c39f785a",
   "metadata": {},
   "source": [
    "$ Z = \\frac{X - \\mu}{\\sigma} $\n",
    "\n",
    "Dove:\n",
    "- $ x $ è il valore della variabile originale\n",
    "- $ \\mu $ è la media della variabile originale\n",
    "- $ \\sigma $ è la deviazione standard della variabile originale\n",
    "- $ z $ è il valore standardizzato della variabile\n"
   ]
  },
  {
   "cell_type": "code",
   "execution_count": 6,
   "id": "c0eb5bd2-daef-4bc0-8d62-6a4fec85be2f",
   "metadata": {},
   "outputs": [],
   "source": [
    "import pandas as pd\n",
    "import numpy as np"
   ]
  },
  {
   "cell_type": "code",
   "execution_count": 8,
   "id": "9337730b-96a4-4f6f-9752-4c19cdf34198",
   "metadata": {},
   "outputs": [],
   "source": [
    "# Numero di studenti\n",
    "num_studenti = 100\n",
    "\n",
    "# Distribuzione dei voti in scala 30/30\n",
    "voti_30 = np.random.randint(18, 31, num_studenti)\n",
    "\n",
    "# Distribuzione dei voti in scala 100/100\n",
    "voti_100 = voti_30 * 100 / 30\n",
    "\n",
    "# Creazione dei DataFrame\n",
    "df_30 = pd.DataFrame({'Voti': voti_30})\n",
    "df_100 = pd.DataFrame({'Voti': voti_100})\n",
    "\n"
   ]
  },
  {
   "cell_type": "code",
   "execution_count": 10,
   "id": "6b0bda29-5d46-4960-91e5-02a5dfb9a662",
   "metadata": {},
   "outputs": [],
   "source": [
    "# Calcolare la media e la deviazione standard per entrambe le distribuzioni\n",
    "media_30 = df_30['Voti'].mean()\n",
    "dev_standard_30 = df_30['Voti'].std()\n",
    "\n",
    "media_100 = df_100['Voti'].mean()\n",
    "dev_standard_100 = df_100['Voti'].std()"
   ]
  },
  {
   "cell_type": "code",
   "execution_count": 11,
   "id": "efe61e3e-81f0-434f-a96b-4d4f83450c4f",
   "metadata": {},
   "outputs": [
    {
     "name": "stdout",
     "output_type": "stream",
     "text": [
      "Scala 30/30 - Media: 23.89  Deviazione standard: 3.6484257017253485\n",
      "Scala 100/100 - Media: 79.63333333333334  Deviazione standard: 12.161419005751162\n"
     ]
    }
   ],
   "source": [
    "# Stampare i risultati\n",
    "print(\"Scala 30/30 - Media:\", media_30, \" Deviazione standard:\", dev_standard_30)\n",
    "print(\"Scala 100/100 - Media:\", media_100, \" Deviazione standard:\", dev_standard_100)"
   ]
  },
  {
   "cell_type": "markdown",
   "id": "ed983827-de31-4dec-b069-8b3972e84254",
   "metadata": {},
   "source": [
    "## Esercizio \n",
    "\n",
    "### Uno studente che riceve 27/30 e 75/100 interpretare i risultati in termini di deviazione standard e in termini di confronto per valutare in quale esame ha avuto una performance migliore"
   ]
  },
  {
   "cell_type": "code",
   "execution_count": 14,
   "id": "fae9785a-bb7a-4a4b-b57d-9317b8741321",
   "metadata": {},
   "outputs": [],
   "source": [
    "Esame30=27\n",
    "Esame100=75"
   ]
  },
  {
   "cell_type": "code",
   "execution_count": 15,
   "id": "0f8ec0e3-795c-43c1-a771-7a110d282234",
   "metadata": {},
   "outputs": [],
   "source": [
    "# Calcolare Z1 e Z2 per entrambe le distribuzioni\n",
    "Z1_30 = (Esame30 - media_30) / dev_standard_30\n",
    "Z2_100 = (Esame100- media_100) / dev_standard_100"
   ]
  },
  {
   "cell_type": "code",
   "execution_count": 16,
   "id": "ddd60b7a-16a5-4e08-81f9-43289a45df2f",
   "metadata": {},
   "outputs": [
    {
     "name": "stdout",
     "output_type": "stream",
     "text": [
      "0.8524224567679352\n"
     ]
    }
   ],
   "source": [
    "print(Z1_30) "
   ]
  },
  {
   "cell_type": "code",
   "execution_count": 17,
   "id": "225a829f-a0f3-43e8-b94c-a092aec18be9",
   "metadata": {},
   "outputs": [
    {
     "name": "stdout",
     "output_type": "stream",
     "text": [
      "-0.38098624273550863\n"
     ]
    }
   ],
   "source": [
    "print(Z2_100) "
   ]
  },
  {
   "cell_type": "code",
   "execution_count": null,
   "id": "96963e0f-4991-4c3e-a025-d46164a11284",
   "metadata": {},
   "outputs": [],
   "source": []
  }
 ],
 "metadata": {
  "kernelspec": {
   "display_name": "Python 3 (ipykernel)",
   "language": "python",
   "name": "python3"
  },
  "language_info": {
   "codemirror_mode": {
    "name": "ipython",
    "version": 3
   },
   "file_extension": ".py",
   "mimetype": "text/x-python",
   "name": "python",
   "nbconvert_exporter": "python",
   "pygments_lexer": "ipython3",
   "version": "3.10.8"
  }
 },
 "nbformat": 4,
 "nbformat_minor": 5
}
